{
 "cells": [
  {
   "cell_type": "code",
   "execution_count": 1,
   "metadata": {},
   "outputs": [],
   "source": [
    "import numpy as np \n",
    "import pandas as pd \n",
    "from sklearn.metrics import accuracy_score\n",
    "from sklearn.preprocessing import StandardScaler,MinMaxScaler\n",
    "from sklearn.model_selection import train_test_split"
   ]
  },
  {
   "cell_type": "code",
   "execution_count": 2,
   "metadata": {},
   "outputs": [],
   "source": [
    "class SigmoidNeuron:\n",
    "    \n",
    "    def __init__(self):\n",
    "        self.w = None\n",
    "        self.b = None\n",
    "    \n",
    "    def perceptron(self,x):\n",
    "        return (np.dot(self.w,x) + self.b)\n",
    "    \n",
    "    def sigmoid(self,x):\n",
    "        return 1.0/(1.0 + np.exp(-x))\n",
    "    \n",
    "    def grad_w(self,x,y):\n",
    "        y_pred = self.sigmoid(self.perceptron(x))\n",
    "        return (y_pred - y)*y_pred*(1-y_pred)*x\n",
    "    \n",
    "    def grad_b(self,x,y):\n",
    "        y_pred = self.sigmoid(self.perceptron(x))\n",
    "        return (y_pred - y)*y_pred*(1-y_pred)\n",
    "    \n",
    "    def fit(self,X,Y,epoch = 1,eta = 1):\n",
    "        self.w = np.random.randn(1 , X.shape[1])\n",
    "        self.b = 0 \n",
    "        \n",
    "        for i in range(epoch):\n",
    "            dw = 0\n",
    "            db = 0\n",
    "            for x,y in zip(X,Y):\n",
    "                dw += self.grad_w(x,y)\n",
    "                db += self.grad_b(x,y)\n",
    "                \n",
    "            self.w = self.w - eta*dw\n",
    "            self.b = self.b - eta*db\n",
    "            \n",
    "    def predict(self,X):\n",
    "        Y_pred = []\n",
    "        for x in X:\n",
    "            y_pred = self.sigmoid(self.perceptron(x))\n",
    "            Y_pred.append(y_pred)\n",
    "        return np.array(Y_pred)\n",
    "            "
   ]
  },
  {
   "cell_type": "code",
   "execution_count": 3,
   "metadata": {},
   "outputs": [],
   "source": [
    "X = np.asarray([[2.5,2.5],[4,-1],[1,-4],[3,1.25],[2,4],[1,5]])\n",
    "Y = [1,1,1,0,0,0]"
   ]
  },
  {
   "cell_type": "code",
   "execution_count": 4,
   "metadata": {},
   "outputs": [],
   "source": [
    "sn = SigmoidNeuron()\n",
    "sn.fit(X,Y,1,0.25)"
   ]
  },
  {
   "cell_type": "code",
   "execution_count": 5,
   "metadata": {},
   "outputs": [
    {
     "name": "stdout",
     "output_type": "stream",
     "text": [
      "[[ 0.64057637 -0.49752063]] [-0.07428344]\n"
     ]
    }
   ],
   "source": [
    "print(sn.w,sn.b)"
   ]
  },
  {
   "cell_type": "code",
   "execution_count": 6,
   "metadata": {},
   "outputs": [
    {
     "name": "stdout",
     "output_type": "stream",
     "text": [
      "C:\\Users\\Aditya P Jadhav\n"
     ]
    }
   ],
   "source": [
    "%cd"
   ]
  },
  {
   "cell_type": "code",
   "execution_count": 7,
   "metadata": {},
   "outputs": [
    {
     "data": {
      "text/html": [
       "<div>\n",
       "<style scoped>\n",
       "    .dataframe tbody tr th:only-of-type {\n",
       "        vertical-align: middle;\n",
       "    }\n",
       "\n",
       "    .dataframe tbody tr th {\n",
       "        vertical-align: top;\n",
       "    }\n",
       "\n",
       "    .dataframe thead th {\n",
       "        text-align: right;\n",
       "    }\n",
       "</style>\n",
       "<table border=\"1\" class=\"dataframe\">\n",
       "  <thead>\n",
       "    <tr style=\"text-align: right;\">\n",
       "      <th></th>\n",
       "      <th>PhoneId</th>\n",
       "      <th>Pixel Density</th>\n",
       "      <th>Screen Size</th>\n",
       "      <th>Weight</th>\n",
       "      <th>RAM</th>\n",
       "      <th>Processor_frequency</th>\n",
       "      <th>Screen to Body Ratio (calculated)</th>\n",
       "      <th>Height</th>\n",
       "      <th>Internal Memory</th>\n",
       "      <th>Capacity</th>\n",
       "      <th>...</th>\n",
       "      <th>os_name_Tizen</th>\n",
       "      <th>os_name_iOS</th>\n",
       "      <th>SIM Slot(s)_Dual SIM, GSM+CDMA</th>\n",
       "      <th>SIM Slot(s)_Dual SIM, GSM+GSM</th>\n",
       "      <th>SIM Slot(s)_Dual SIM, GSM+GSM, Dual VoLTE</th>\n",
       "      <th>SIM Slot(s)_Single SIM, GSM</th>\n",
       "      <th>Sim1_2G</th>\n",
       "      <th>Sim1_3G</th>\n",
       "      <th>Sim1_4G</th>\n",
       "      <th>Rating</th>\n",
       "    </tr>\n",
       "  </thead>\n",
       "  <tbody>\n",
       "    <tr>\n",
       "      <th>0</th>\n",
       "      <td>0</td>\n",
       "      <td>403</td>\n",
       "      <td>6.26</td>\n",
       "      <td>182</td>\n",
       "      <td>4</td>\n",
       "      <td>1.8</td>\n",
       "      <td>80.68</td>\n",
       "      <td>157.9</td>\n",
       "      <td>64</td>\n",
       "      <td>4000</td>\n",
       "      <td>...</td>\n",
       "      <td>0</td>\n",
       "      <td>0</td>\n",
       "      <td>0</td>\n",
       "      <td>0</td>\n",
       "      <td>1</td>\n",
       "      <td>0</td>\n",
       "      <td>0</td>\n",
       "      <td>0</td>\n",
       "      <td>1</td>\n",
       "      <td>4.5</td>\n",
       "    </tr>\n",
       "    <tr>\n",
       "      <th>1</th>\n",
       "      <td>1</td>\n",
       "      <td>271</td>\n",
       "      <td>6.20</td>\n",
       "      <td>168</td>\n",
       "      <td>3</td>\n",
       "      <td>1.8</td>\n",
       "      <td>80.85</td>\n",
       "      <td>156.2</td>\n",
       "      <td>32</td>\n",
       "      <td>4230</td>\n",
       "      <td>...</td>\n",
       "      <td>0</td>\n",
       "      <td>0</td>\n",
       "      <td>0</td>\n",
       "      <td>0</td>\n",
       "      <td>1</td>\n",
       "      <td>0</td>\n",
       "      <td>0</td>\n",
       "      <td>0</td>\n",
       "      <td>1</td>\n",
       "      <td>4.5</td>\n",
       "    </tr>\n",
       "    <tr>\n",
       "      <th>2</th>\n",
       "      <td>2</td>\n",
       "      <td>409</td>\n",
       "      <td>6.30</td>\n",
       "      <td>168</td>\n",
       "      <td>3</td>\n",
       "      <td>2.1</td>\n",
       "      <td>83.68</td>\n",
       "      <td>157.0</td>\n",
       "      <td>32</td>\n",
       "      <td>3500</td>\n",
       "      <td>...</td>\n",
       "      <td>0</td>\n",
       "      <td>0</td>\n",
       "      <td>0</td>\n",
       "      <td>0</td>\n",
       "      <td>1</td>\n",
       "      <td>0</td>\n",
       "      <td>0</td>\n",
       "      <td>0</td>\n",
       "      <td>1</td>\n",
       "      <td>4.4</td>\n",
       "    </tr>\n",
       "    <tr>\n",
       "      <th>3</th>\n",
       "      <td>4</td>\n",
       "      <td>411</td>\n",
       "      <td>6.00</td>\n",
       "      <td>169</td>\n",
       "      <td>4</td>\n",
       "      <td>2.2</td>\n",
       "      <td>74.78</td>\n",
       "      <td>159.8</td>\n",
       "      <td>64</td>\n",
       "      <td>3300</td>\n",
       "      <td>...</td>\n",
       "      <td>0</td>\n",
       "      <td>0</td>\n",
       "      <td>0</td>\n",
       "      <td>1</td>\n",
       "      <td>0</td>\n",
       "      <td>0</td>\n",
       "      <td>0</td>\n",
       "      <td>0</td>\n",
       "      <td>1</td>\n",
       "      <td>4.3</td>\n",
       "    </tr>\n",
       "    <tr>\n",
       "      <th>4</th>\n",
       "      <td>5</td>\n",
       "      <td>396</td>\n",
       "      <td>6.50</td>\n",
       "      <td>175</td>\n",
       "      <td>4</td>\n",
       "      <td>2.2</td>\n",
       "      <td>84.23</td>\n",
       "      <td>160.4</td>\n",
       "      <td>64</td>\n",
       "      <td>3750</td>\n",
       "      <td>...</td>\n",
       "      <td>0</td>\n",
       "      <td>0</td>\n",
       "      <td>0</td>\n",
       "      <td>0</td>\n",
       "      <td>1</td>\n",
       "      <td>0</td>\n",
       "      <td>0</td>\n",
       "      <td>0</td>\n",
       "      <td>1</td>\n",
       "      <td>4.4</td>\n",
       "    </tr>\n",
       "  </tbody>\n",
       "</table>\n",
       "<p>5 rows × 88 columns</p>\n",
       "</div>"
      ],
      "text/plain": [
       "   PhoneId  Pixel Density  Screen Size  Weight  RAM  Processor_frequency  \\\n",
       "0        0            403         6.26     182    4                  1.8   \n",
       "1        1            271         6.20     168    3                  1.8   \n",
       "2        2            409         6.30     168    3                  2.1   \n",
       "3        4            411         6.00     169    4                  2.2   \n",
       "4        5            396         6.50     175    4                  2.2   \n",
       "\n",
       "   Screen to Body Ratio (calculated)  Height  Internal Memory  Capacity  ...  \\\n",
       "0                              80.68   157.9               64      4000  ...   \n",
       "1                              80.85   156.2               32      4230  ...   \n",
       "2                              83.68   157.0               32      3500  ...   \n",
       "3                              74.78   159.8               64      3300  ...   \n",
       "4                              84.23   160.4               64      3750  ...   \n",
       "\n",
       "   os_name_Tizen  os_name_iOS  SIM Slot(s)_Dual SIM, GSM+CDMA  \\\n",
       "0              0            0                               0   \n",
       "1              0            0                               0   \n",
       "2              0            0                               0   \n",
       "3              0            0                               0   \n",
       "4              0            0                               0   \n",
       "\n",
       "   SIM Slot(s)_Dual SIM, GSM+GSM  SIM Slot(s)_Dual SIM, GSM+GSM, Dual VoLTE  \\\n",
       "0                              0                                          1   \n",
       "1                              0                                          1   \n",
       "2                              0                                          1   \n",
       "3                              1                                          0   \n",
       "4                              0                                          1   \n",
       "\n",
       "   SIM Slot(s)_Single SIM, GSM  Sim1_2G  Sim1_3G  Sim1_4G  Rating  \n",
       "0                            0        0        0        1     4.5  \n",
       "1                            0        0        0        1     4.5  \n",
       "2                            0        0        0        1     4.4  \n",
       "3                            0        0        0        1     4.3  \n",
       "4                            0        0        0        1     4.4  \n",
       "\n",
       "[5 rows x 88 columns]"
      ]
     },
     "execution_count": 7,
     "metadata": {},
     "output_type": "execute_result"
    }
   ],
   "source": [
    "data = pd.read_csv(\"C:\\\\Users\\\\Aditya P Jadhav\\\\Downloads\\\\mobile_cleaned.csv\") #https://drive.google.com/file/d/1_BFJgAqJEOMh5izVIx3aSTbjItsyP-xh/view\n",
    "data.head()"
   ]
  },
  {
   "cell_type": "code",
   "execution_count": 8,
   "metadata": {},
   "outputs": [],
   "source": [
    "X = data.drop(\"Rating\",axis = 1)\n",
    "Y = data['Rating'].values"
   ]
  },
  {
   "cell_type": "code",
   "execution_count": 9,
   "metadata": {},
   "outputs": [
    {
     "data": {
      "text/html": [
       "<div>\n",
       "<style scoped>\n",
       "    .dataframe tbody tr th:only-of-type {\n",
       "        vertical-align: middle;\n",
       "    }\n",
       "\n",
       "    .dataframe tbody tr th {\n",
       "        vertical-align: top;\n",
       "    }\n",
       "\n",
       "    .dataframe thead th {\n",
       "        text-align: right;\n",
       "    }\n",
       "</style>\n",
       "<table border=\"1\" class=\"dataframe\">\n",
       "  <thead>\n",
       "    <tr style=\"text-align: right;\">\n",
       "      <th></th>\n",
       "      <th>PhoneId</th>\n",
       "      <th>Pixel Density</th>\n",
       "      <th>Screen Size</th>\n",
       "      <th>Weight</th>\n",
       "      <th>RAM</th>\n",
       "      <th>Processor_frequency</th>\n",
       "      <th>Screen to Body Ratio (calculated)</th>\n",
       "      <th>Height</th>\n",
       "      <th>Internal Memory</th>\n",
       "      <th>Capacity</th>\n",
       "      <th>...</th>\n",
       "      <th>os_name_Other</th>\n",
       "      <th>os_name_Tizen</th>\n",
       "      <th>os_name_iOS</th>\n",
       "      <th>SIM Slot(s)_Dual SIM, GSM+CDMA</th>\n",
       "      <th>SIM Slot(s)_Dual SIM, GSM+GSM</th>\n",
       "      <th>SIM Slot(s)_Dual SIM, GSM+GSM, Dual VoLTE</th>\n",
       "      <th>SIM Slot(s)_Single SIM, GSM</th>\n",
       "      <th>Sim1_2G</th>\n",
       "      <th>Sim1_3G</th>\n",
       "      <th>Sim1_4G</th>\n",
       "    </tr>\n",
       "  </thead>\n",
       "  <tbody>\n",
       "    <tr>\n",
       "      <th>0</th>\n",
       "      <td>0</td>\n",
       "      <td>403</td>\n",
       "      <td>6.26</td>\n",
       "      <td>182</td>\n",
       "      <td>4</td>\n",
       "      <td>1.8</td>\n",
       "      <td>80.68</td>\n",
       "      <td>157.9</td>\n",
       "      <td>64</td>\n",
       "      <td>4000</td>\n",
       "      <td>...</td>\n",
       "      <td>0</td>\n",
       "      <td>0</td>\n",
       "      <td>0</td>\n",
       "      <td>0</td>\n",
       "      <td>0</td>\n",
       "      <td>1</td>\n",
       "      <td>0</td>\n",
       "      <td>0</td>\n",
       "      <td>0</td>\n",
       "      <td>1</td>\n",
       "    </tr>\n",
       "    <tr>\n",
       "      <th>1</th>\n",
       "      <td>1</td>\n",
       "      <td>271</td>\n",
       "      <td>6.20</td>\n",
       "      <td>168</td>\n",
       "      <td>3</td>\n",
       "      <td>1.8</td>\n",
       "      <td>80.85</td>\n",
       "      <td>156.2</td>\n",
       "      <td>32</td>\n",
       "      <td>4230</td>\n",
       "      <td>...</td>\n",
       "      <td>0</td>\n",
       "      <td>0</td>\n",
       "      <td>0</td>\n",
       "      <td>0</td>\n",
       "      <td>0</td>\n",
       "      <td>1</td>\n",
       "      <td>0</td>\n",
       "      <td>0</td>\n",
       "      <td>0</td>\n",
       "      <td>1</td>\n",
       "    </tr>\n",
       "    <tr>\n",
       "      <th>2</th>\n",
       "      <td>2</td>\n",
       "      <td>409</td>\n",
       "      <td>6.30</td>\n",
       "      <td>168</td>\n",
       "      <td>3</td>\n",
       "      <td>2.1</td>\n",
       "      <td>83.68</td>\n",
       "      <td>157.0</td>\n",
       "      <td>32</td>\n",
       "      <td>3500</td>\n",
       "      <td>...</td>\n",
       "      <td>0</td>\n",
       "      <td>0</td>\n",
       "      <td>0</td>\n",
       "      <td>0</td>\n",
       "      <td>0</td>\n",
       "      <td>1</td>\n",
       "      <td>0</td>\n",
       "      <td>0</td>\n",
       "      <td>0</td>\n",
       "      <td>1</td>\n",
       "    </tr>\n",
       "    <tr>\n",
       "      <th>3</th>\n",
       "      <td>4</td>\n",
       "      <td>411</td>\n",
       "      <td>6.00</td>\n",
       "      <td>169</td>\n",
       "      <td>4</td>\n",
       "      <td>2.2</td>\n",
       "      <td>74.78</td>\n",
       "      <td>159.8</td>\n",
       "      <td>64</td>\n",
       "      <td>3300</td>\n",
       "      <td>...</td>\n",
       "      <td>0</td>\n",
       "      <td>0</td>\n",
       "      <td>0</td>\n",
       "      <td>0</td>\n",
       "      <td>1</td>\n",
       "      <td>0</td>\n",
       "      <td>0</td>\n",
       "      <td>0</td>\n",
       "      <td>0</td>\n",
       "      <td>1</td>\n",
       "    </tr>\n",
       "    <tr>\n",
       "      <th>4</th>\n",
       "      <td>5</td>\n",
       "      <td>396</td>\n",
       "      <td>6.50</td>\n",
       "      <td>175</td>\n",
       "      <td>4</td>\n",
       "      <td>2.2</td>\n",
       "      <td>84.23</td>\n",
       "      <td>160.4</td>\n",
       "      <td>64</td>\n",
       "      <td>3750</td>\n",
       "      <td>...</td>\n",
       "      <td>0</td>\n",
       "      <td>0</td>\n",
       "      <td>0</td>\n",
       "      <td>0</td>\n",
       "      <td>0</td>\n",
       "      <td>1</td>\n",
       "      <td>0</td>\n",
       "      <td>0</td>\n",
       "      <td>0</td>\n",
       "      <td>1</td>\n",
       "    </tr>\n",
       "  </tbody>\n",
       "</table>\n",
       "<p>5 rows × 87 columns</p>\n",
       "</div>"
      ],
      "text/plain": [
       "   PhoneId  Pixel Density  Screen Size  Weight  RAM  Processor_frequency  \\\n",
       "0        0            403         6.26     182    4                  1.8   \n",
       "1        1            271         6.20     168    3                  1.8   \n",
       "2        2            409         6.30     168    3                  2.1   \n",
       "3        4            411         6.00     169    4                  2.2   \n",
       "4        5            396         6.50     175    4                  2.2   \n",
       "\n",
       "   Screen to Body Ratio (calculated)  Height  Internal Memory  Capacity  ...  \\\n",
       "0                              80.68   157.9               64      4000  ...   \n",
       "1                              80.85   156.2               32      4230  ...   \n",
       "2                              83.68   157.0               32      3500  ...   \n",
       "3                              74.78   159.8               64      3300  ...   \n",
       "4                              84.23   160.4               64      3750  ...   \n",
       "\n",
       "   os_name_Other  os_name_Tizen  os_name_iOS  SIM Slot(s)_Dual SIM, GSM+CDMA  \\\n",
       "0              0              0            0                               0   \n",
       "1              0              0            0                               0   \n",
       "2              0              0            0                               0   \n",
       "3              0              0            0                               0   \n",
       "4              0              0            0                               0   \n",
       "\n",
       "   SIM Slot(s)_Dual SIM, GSM+GSM  SIM Slot(s)_Dual SIM, GSM+GSM, Dual VoLTE  \\\n",
       "0                              0                                          1   \n",
       "1                              0                                          1   \n",
       "2                              0                                          1   \n",
       "3                              1                                          0   \n",
       "4                              0                                          1   \n",
       "\n",
       "   SIM Slot(s)_Single SIM, GSM  Sim1_2G  Sim1_3G  Sim1_4G  \n",
       "0                            0        0        0        1  \n",
       "1                            0        0        0        1  \n",
       "2                            0        0        0        1  \n",
       "3                            0        0        0        1  \n",
       "4                            0        0        0        1  \n",
       "\n",
       "[5 rows x 87 columns]"
      ]
     },
     "execution_count": 9,
     "metadata": {},
     "output_type": "execute_result"
    }
   ],
   "source": [
    "X.head()"
   ]
  },
  {
   "cell_type": "code",
   "execution_count": 10,
   "metadata": {},
   "outputs": [
    {
     "data": {
      "text/plain": [
       "array([4.5, 4.5, 4.4, 4.3, 4.4, 4.5, 4.3, 4.1, 4.3, 4.5, 4.5, 4. , 4.4,\n",
       "       4.4, 4.4, 4.4, 4.5, 4.4, 4.4, 4.4, 4.4, 4.5, 4.4, 4.3, 4.2, 4.3,\n",
       "       4.3, 4.6, 4.4, 4.5, 3.9, 4.2, 4.3, 4.2, 4.3, 4.3, 4.2, 4.4, 4.1,\n",
       "       3.8, 4.4, 4.6, 4.3, 4.5, 4.5, 4.2, 3.9, 4.3, 4. , 4.3, 4.3, 3.9,\n",
       "       4.2, 4.5, 4. , 4.6, 4.2, 2.8, 4.4, 4.3, 4.2, 4.4, 4.4, 4. , 4.4,\n",
       "       4.4, 4.1, 4.5, 4.3, 3.9, 4.3, 4.1, 4.1, 4.2, 3.4, 4.2, 4.6, 3.8,\n",
       "       4.3, 4.5, 4.2, 4.5, 4.5, 4. , 4.1, 4.4, 4.5, 4.1, 4.5, 4.3, 4.5,\n",
       "       3.9, 3.9, 4.4, 4.4, 4.4, 4. , 4.1, 4.1, 4.4, 4.3, 4.3, 4.2, 4.3,\n",
       "       3.4, 4.3, 4.3, 4.2, 4.6, 4.8, 4.4, 3.4, 3.7, 4.2, 4.3, 4.4, 4.3,\n",
       "       4.2, 4.1, 4.3, 4. , 3.9, 4.4, 4.4, 3.9, 3.1, 3.7, 4.2, 4.4, 4. ,\n",
       "       4. , 4.1, 4.2, 4.3, 4.2, 4.3, 4.1, 3.6, 4.1, 4. , 3.8, 3.7, 4.3,\n",
       "       4.1, 4.1, 4.5, 4. , 4.3, 3.6, 4.1, 4.5, 3.5, 4. , 4.3, 4.6, 3.5,\n",
       "       3.9, 4.1, 3.9, 3.8, 4.4, 4.3, 4. , 3.9, 4.4, 4.7, 3.9, 4.5, 3.7,\n",
       "       4. , 4.3, 4.1, 4.8, 4.1, 4. , 4.7, 4. , 4.1, 4. , 3.4, 4.1, 3.9,\n",
       "       3.1, 4.1, 3.7, 3.4, 3.9, 4.3, 4.1, 3.7, 3.8, 4. , 3.8, 4.6, 3.4,\n",
       "       3.3, 3.2, 3.5, 4.3, 4.1, 4. , 3.8, 4.3, 4.1, 4. , 3.8, 3.8, 3.9,\n",
       "       4.1, 3.7, 4.2, 4. , 4.2, 4.4, 4.1, 3.4, 4.2, 4.4, 3.9, 3.9, 4.4,\n",
       "       4.2, 4.5, 4.5, 4.2, 4. , 4.2, 3.5, 3.7, 4.3, 5. , 3.5, 4.4, 3.7,\n",
       "       4.3, 3.9, 4.3, 3.8, 3.8, 4.3, 5. , 4.1, 3. , 4.4, 3. , 4. , 4. ,\n",
       "       3.9, 3.9, 4.2, 2.8, 4.3, 3.3, 4.3, 4. , 4.2, 4.1, 4.2, 3.6, 3.5,\n",
       "       4.1, 4.6, 3.9, 4. , 3.8, 4.1, 2.5, 4.2, 3.7, 3.9, 4.1, 3. , 3.8,\n",
       "       4.6, 4.2, 3.4, 3.9, 4.5, 4.1, 3.3, 4.1, 4. , 3.3, 4.4, 3.8, 3.9,\n",
       "       3.6, 4.4, 4.1, 4.1, 4. , 3.5, 3. , 4.2, 4. , 3.9, 3.5, 3.4, 3.4,\n",
       "       4. , 3.6, 4. , 3.5, 4. , 4. , 3.7, 4.6, 4. , 4.1, 4. , 3.5, 4.1,\n",
       "       3.7, 4.4, 4.3, 4.1, 3.9, 3.4, 3.3, 3.9, 4. , 4.4, 4.5, 4.2, 3.8,\n",
       "       3.7, 4.2, 4.1, 4. , 3.9, 3.7, 4.2, 4. , 3.6, 3.6, 4.4, 3.8, 3.9,\n",
       "       4.1, 3.6, 4.3])"
      ]
     },
     "execution_count": 10,
     "metadata": {},
     "output_type": "execute_result"
    }
   ],
   "source": [
    "Y"
   ]
  },
  {
   "cell_type": "code",
   "execution_count": 11,
   "metadata": {},
   "outputs": [],
   "source": [
    "threshold = 4.2\n",
    "data['class'] = (data['Rating'] >= threshold).astype(np.int)"
   ]
  },
  {
   "cell_type": "code",
   "execution_count": 12,
   "metadata": {},
   "outputs": [
    {
     "data": {
      "text/plain": [
       "0    0.533724\n",
       "1    0.466276\n",
       "Name: class, dtype: float64"
      ]
     },
     "execution_count": 12,
     "metadata": {},
     "output_type": "execute_result"
    }
   ],
   "source": [
    "data['class'].value_counts(normalize=True)"
   ]
  },
  {
   "cell_type": "code",
   "execution_count": 13,
   "metadata": {},
   "outputs": [],
   "source": [
    "Y_binarized = data['class'].values"
   ]
  },
  {
   "cell_type": "code",
   "execution_count": 14,
   "metadata": {},
   "outputs": [
    {
     "data": {
      "text/plain": [
       "array([1, 1, 1, 1, 1, 1, 1, 0, 1, 1, 1, 0, 1, 1, 1, 1, 1, 1, 1, 1, 1, 1,\n",
       "       1, 1, 1, 1, 1, 1, 1, 1, 0, 1, 1, 1, 1, 1, 1, 1, 0, 0, 1, 1, 1, 1,\n",
       "       1, 1, 0, 1, 0, 1, 1, 0, 1, 1, 0, 1, 1, 0, 1, 1, 1, 1, 1, 0, 1, 1,\n",
       "       0, 1, 1, 0, 1, 0, 0, 1, 0, 1, 1, 0, 1, 1, 1, 1, 1, 0, 0, 1, 1, 0,\n",
       "       1, 1, 1, 0, 0, 1, 1, 1, 0, 0, 0, 1, 1, 1, 1, 1, 0, 1, 1, 1, 1, 1,\n",
       "       1, 0, 0, 1, 1, 1, 1, 1, 0, 1, 0, 0, 1, 1, 0, 0, 0, 1, 1, 0, 0, 0,\n",
       "       1, 1, 1, 1, 0, 0, 0, 0, 0, 0, 1, 0, 0, 1, 0, 1, 0, 0, 1, 0, 0, 1,\n",
       "       1, 0, 0, 0, 0, 0, 1, 1, 0, 0, 1, 1, 0, 1, 0, 0, 1, 0, 1, 0, 0, 1,\n",
       "       0, 0, 0, 0, 0, 0, 0, 0, 0, 0, 0, 1, 0, 0, 0, 0, 0, 1, 0, 0, 0, 0,\n",
       "       1, 0, 0, 0, 1, 0, 0, 0, 0, 0, 0, 0, 1, 0, 1, 1, 0, 0, 1, 1, 0, 0,\n",
       "       1, 1, 1, 1, 1, 0, 1, 0, 0, 1, 1, 0, 1, 0, 1, 0, 1, 0, 0, 1, 1, 0,\n",
       "       0, 1, 0, 0, 0, 0, 0, 1, 0, 1, 0, 1, 0, 1, 0, 1, 0, 0, 0, 1, 0, 0,\n",
       "       0, 0, 0, 1, 0, 0, 0, 0, 0, 1, 1, 0, 0, 1, 0, 0, 0, 0, 0, 1, 0, 0,\n",
       "       0, 1, 0, 0, 0, 0, 0, 1, 0, 0, 0, 0, 0, 0, 0, 0, 0, 0, 0, 0, 1, 0,\n",
       "       0, 0, 0, 0, 0, 1, 1, 0, 0, 0, 0, 0, 0, 1, 1, 1, 0, 0, 1, 0, 0, 0,\n",
       "       0, 1, 0, 0, 0, 1, 0, 0, 0, 0, 1])"
      ]
     },
     "execution_count": 14,
     "metadata": {},
     "output_type": "execute_result"
    }
   ],
   "source": [
    "Y_binarized"
   ]
  },
  {
   "cell_type": "code",
   "execution_count": 16,
   "metadata": {},
   "outputs": [],
   "source": [
    "scale = StandardScaler()"
   ]
  },
  {
   "cell_type": "code",
   "execution_count": 17,
   "metadata": {},
   "outputs": [],
   "source": [
    "X_train,X_test,Y_train,Y_test = train_test_split(X,Y,random_state = 0,stratify=Y_binarized)"
   ]
  },
  {
   "cell_type": "code",
   "execution_count": 18,
   "metadata": {},
   "outputs": [],
   "source": [
    "X_scaled_train = scale.fit_transform(X_train)\n",
    "X_scaled_test = scale.fit_transform(X_test)"
   ]
  },
  {
   "cell_type": "code",
   "execution_count": 19,
   "metadata": {},
   "outputs": [],
   "source": [
    "minmax_scale = MinMaxScaler()"
   ]
  },
  {
   "cell_type": "code",
   "execution_count": 20,
   "metadata": {},
   "outputs": [],
   "source": [
    "Y_scaled_train = minmax_scale.fit_transform(Y_train.reshape(-1,1))\n",
    "Y_scaled_test = minmax_scale.fit_transform(Y_test.reshape(-1,1))"
   ]
  },
  {
   "cell_type": "code",
   "execution_count": 21,
   "metadata": {},
   "outputs": [
    {
     "data": {
      "text/plain": [
       "0.6363636363636365"
      ]
     },
     "execution_count": 21,
     "metadata": {},
     "output_type": "execute_result"
    }
   ],
   "source": [
    "scaled_threshold = list(minmax_scale.transform(np.array([threshold]).reshape(1,-1)))\n",
    "scaled_threshold[0][0]"
   ]
  },
  {
   "cell_type": "code",
   "execution_count": 25,
   "metadata": {},
   "outputs": [
    {
     "data": {
      "text/plain": [
       "array([1, 1, 1, 0, 1, 1, 1, 1, 1, 1, 1, 0, 1, 1, 1, 1, 0, 1, 1, 1, 1, 1,\n",
       "       0, 1, 0, 1, 1, 1, 1, 1, 0, 1, 0, 0, 1, 0, 1, 0, 1, 0, 0, 0, 1, 0,\n",
       "       1, 0, 1, 1, 1, 1, 1, 1, 1, 0, 0, 1, 1, 1, 1, 0, 0, 1, 0, 0, 1, 0,\n",
       "       1, 0, 0, 1, 1, 0, 1, 1, 1, 1, 0, 1, 1, 1, 1, 0, 0, 1, 0, 1, 0, 0,\n",
       "       0, 1, 1, 1, 0, 0, 0, 1, 0, 1, 1, 0, 1, 1, 1, 1, 1, 1, 0, 1, 0, 0,\n",
       "       1, 0, 1, 0, 1, 0, 1, 0, 1, 0, 1, 0, 1, 0, 1, 0, 0, 1, 0, 0, 1, 1,\n",
       "       1, 0, 1, 0, 1, 1, 0, 0, 1, 1, 1, 0, 1, 1, 0, 1, 1, 0, 0, 0, 1, 1,\n",
       "       1, 0, 1, 1, 1, 0, 0, 0, 0, 1, 0, 0, 0, 1, 0, 1, 1, 0, 1, 1, 1, 1,\n",
       "       0, 0, 1, 1, 0, 0, 1, 0, 1, 0, 1, 0, 1, 1, 1, 0, 1, 0, 1, 0, 0, 1,\n",
       "       0, 0, 0, 0, 1, 0, 0, 1, 1, 1, 1, 0, 1, 0, 1, 1, 0, 1, 1, 1, 0, 1,\n",
       "       1, 0, 0, 1, 1, 1, 1, 1, 0, 1, 0, 0, 0, 1, 0, 1, 0, 1, 0, 1, 1, 0,\n",
       "       1, 0, 1, 1, 1, 0, 0, 0, 0, 1, 0, 1, 1])"
      ]
     },
     "execution_count": 25,
     "metadata": {},
     "output_type": "execute_result"
    }
   ],
   "source": [
    "Y_binarized_train = (Y_scaled_train > scaled_threshold[0][0]).astype('int').ravel()\n",
    "Y_binarized_train"
   ]
  },
  {
   "cell_type": "code",
   "execution_count": 40,
   "metadata": {},
   "outputs": [],
   "source": [
    "Y_binarized_test = (Y_scaled_test > scaled_threshold[0][0]).astype('int').ravel()"
   ]
  },
  {
   "cell_type": "code",
   "execution_count": 23,
   "metadata": {},
   "outputs": [],
   "source": [
    "sn = SigmoidNeuron()"
   ]
  },
  {
   "cell_type": "code",
   "execution_count": 36,
   "metadata": {},
   "outputs": [],
   "source": [
    "sn.fit(X_scaled_train,Y_scaled_train,epoch=1000,eta = 0.01)"
   ]
  },
  {
   "cell_type": "code",
   "execution_count": 37,
   "metadata": {},
   "outputs": [],
   "source": [
    "Y_pred_train = sn.predict(X_scaled_train)\n",
    "Y_pred_binarized_train = (Y_pred_train > scaled_threshold[0][0]).astype('int').ravel()"
   ]
  },
  {
   "cell_type": "code",
   "execution_count": 38,
   "metadata": {},
   "outputs": [],
   "source": [
    "Y_pred_test = sn.predict(X_scaled_test)\n",
    "Y_pred_binarized_test = (Y_pred_test > scaled_threshold[0][0]).astype('int').ravel()"
   ]
  },
  {
   "cell_type": "code",
   "execution_count": 39,
   "metadata": {},
   "outputs": [
    {
     "data": {
      "text/plain": [
       "0.7450980392156863"
      ]
     },
     "execution_count": 39,
     "metadata": {},
     "output_type": "execute_result"
    }
   ],
   "source": [
    "accuracy = accuracy_score(Y_binarized_train,Y_pred_binarized_train)\n",
    "accuracy"
   ]
  },
  {
   "cell_type": "code",
   "execution_count": 41,
   "metadata": {},
   "outputs": [
    {
     "data": {
      "text/plain": [
       "0.7674418604651163"
      ]
     },
     "execution_count": 41,
     "metadata": {},
     "output_type": "execute_result"
    }
   ],
   "source": [
    "accuracy_test = accuracy_score(Y_binarized_test,Y_pred_binarized_test)\n",
    "accuracy_test"
   ]
  },
  {
   "cell_type": "code",
   "execution_count": null,
   "metadata": {},
   "outputs": [],
   "source": []
  }
 ],
 "metadata": {
  "kernelspec": {
   "display_name": "Python 3",
   "language": "python",
   "name": "python3"
  },
  "language_info": {
   "codemirror_mode": {
    "name": "ipython",
    "version": 3
   },
   "file_extension": ".py",
   "mimetype": "text/x-python",
   "name": "python",
   "nbconvert_exporter": "python",
   "pygments_lexer": "ipython3",
   "version": "3.7.6"
  }
 },
 "nbformat": 4,
 "nbformat_minor": 4
}
